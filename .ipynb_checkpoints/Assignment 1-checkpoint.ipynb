{
 "cells": [
  {
   "cell_type": "markdown",
   "metadata": {},
   "source": [
    "## Project to find Body-Fat percentage using Genetic Algorithm"
   ]
  },
  {
   "cell_type": "code",
   "execution_count": 2,
   "metadata": {},
   "outputs": [],
   "source": [
    "# Importing packages\n",
    "import numpy as np\n",
    "from math import e\n",
    "import pandas as pd\n",
    "import random\n",
    "import statistics\n",
    "from sklearn.model_selection import train_test_split\n",
    "import matplotlib.pyplot as plt\n",
    "%matplotlib inline"
   ]
  },
  {
   "cell_type": "code",
   "execution_count": 3,
   "metadata": {},
   "outputs": [],
   "source": [
    "# Importing data \n",
    "df = pd.read_csv('Data.csv', sep = '\\t')"
   ]
  },
  {
   "cell_type": "code",
   "execution_count": 4,
   "metadata": {},
   "outputs": [],
   "source": [
    "# Assigning N with a value of 10 \n",
    "N = 10"
   ]
  },
  {
   "cell_type": "code",
   "execution_count": 5,
   "metadata": {},
   "outputs": [],
   "source": [
    "# Selecting first 5 rows in the data\n",
    "df1 = df.iloc[:, :5]"
   ]
  },
  {
   "cell_type": "code",
   "execution_count": 6,
   "metadata": {},
   "outputs": [],
   "source": [
    "# Joining first 5 rows and the output data BodyFat together\n",
    "W = df[['bodyfat']].values.astype(float)\n",
    "W = pd.DataFrame(W)"
   ]
  },
  {
   "cell_type": "code",
   "execution_count": 7,
   "metadata": {},
   "outputs": [],
   "source": [
    "# Normalizing Bodyfat Column\n",
    "from sklearn.preprocessing import MinMaxScaler\n",
    "min_max_scaler = MinMaxScaler()\n",
    "norm_W = min_max_scaler.fit_transform(W)\n",
    "norm_W_df = pd.DataFrame(norm_W)"
   ]
  },
  {
   "cell_type": "code",
   "execution_count": 8,
   "metadata": {},
   "outputs": [],
   "source": [
    "# Splitting the data into training and testing set\n",
    "train_X, test_y = train_test_split(df1, test_size = 0.25)\n",
    "#print(len(train_X))\n",
    "#print(test_y)\n",
    "#train_X"
   ]
  },
  {
   "cell_type": "code",
   "execution_count": 9,
   "metadata": {},
   "outputs": [],
   "source": [
    "# Normalizing training set \n",
    "from sklearn.preprocessing import Normalizer\n",
    "scaler = Normalizer()\n",
    "x_scaler = scaler.fit_transform(train_X)\n",
    "norm_data = pd.DataFrame(x_scaler)\n",
    "norm_test_y = scaler.fit_transform(test_y)\n",
    "norm_test_df = pd.DataFrame(norm_test_y)"
   ]
  },
  {
   "cell_type": "code",
   "execution_count": 10,
   "metadata": {},
   "outputs": [],
   "source": [
    "# Creating random values of a single weight W\n",
    "pop_weights = np.random.uniform(-2,2, [500, 5, 10])\n",
    "#print(pop_weights)\n",
    "#pop_weights[1]"
   ]
  },
  {
   "cell_type": "code",
   "execution_count": 11,
   "metadata": {},
   "outputs": [],
   "source": [
    "# Declaring N_pop that is the number of population we want\n",
    "N_pop = 500"
   ]
  },
  {
   "cell_type": "code",
   "execution_count": 12,
   "metadata": {},
   "outputs": [
    {
     "name": "stdout",
     "output_type": "stream",
     "text": [
      "-453.5889944833577\n"
     ]
    }
   ],
   "source": [
    "# Finding Dot Product of Normalized training data and pop_weights_rep\n",
    "# Finding y_hat and 500 fitness values\n",
    "# fit_val_num = fitness value numerator\n",
    "def fitness_val_func(pop_weights,N_pop):\n",
    "    dot_prod = np.dot(norm_data.loc[:,:5],pop_weights)\n",
    "    fitness_val = []\n",
    "    for i in range(0, N_pop):\n",
    "        fit_val_num = 0\n",
    "        y_cap = []\n",
    "        for j in range(0, len(train_X)):\n",
    "            #dot_prod = np.dot(norm_data.loc[j, :5],pop_weights[i])\n",
    "            f_n = 0\n",
    "            for k in range(0, 10):\n",
    "                f_n = f_n + (1/(1 + (e**(-(dot_prod[j][i][k])))))\n",
    "            y_cap.append(f_n)\n",
    "        for x in range(0, len(train_X)):\n",
    "            fit_val_num = fit_val_num + ((y_cap[x] - norm_data.loc[x,4])) ** 2\n",
    "        val = (1 - (fit_val_num/189)) * 100\n",
    "        fitness_val.append(val)\n",
    "    return fitness_val\n",
    "\n",
    "# Fitness value of initial population\n",
    "fitness_val = fitness_val_func(pop_weights,N_pop)\n",
    "max_fit_val = max(fitness_val)\n",
    "print(max_fit_val)"
   ]
  },
  {
   "cell_type": "code",
   "execution_count": 13,
   "metadata": {
    "scrolled": true
   },
   "outputs": [],
   "source": [
    "# Calculating Fitness Values of Chromosomes\n",
    "pop_weights_norm = []\n",
    "for i in range(0,500):\n",
    "    df_pop = pd.DataFrame(pop_weights[i])\n",
    "    pop_norm = min_max_scaler.fit_transform(df_pop)\n",
    "    pop_weights_norm.append(pop_norm) \n",
    "\n",
    "pop_norm_array = np.array(pop_weights_norm) \n",
    "pop_weights_1000 = np.round(pop_norm_array * 1000)\n",
    "int_pop_weights = pop_weights_1000.astype(int)"
   ]
  },
  {
   "cell_type": "code",
   "execution_count": 14,
   "metadata": {},
   "outputs": [],
   "source": [
    "# Binarization\n",
    "# Binarizing Population weights\n",
    "bin_weights = []\n",
    "for i in range(0, 500):\n",
    "    conc_val = ''\n",
    "    for j in range(0, 5):\n",
    "        for k in range(0, 10):\n",
    "            bin_str = str(bin(int_pop_weights[i][j][k])[2:].zfill(10))\n",
    "            conc_val = conc_val + bin_str\n",
    "    bin_weights.append(conc_val)"
   ]
  },
  {
   "cell_type": "code",
   "execution_count": 15,
   "metadata": {},
   "outputs": [],
   "source": [
    "# Maximum Fitness Value\n",
    "max_fit_index = 0\n",
    "for i in range(0, N_pop):\n",
    "    if max_fit_val == fitness_val[i]:\n",
    "        max_fit_index = i\n",
    "        break"
   ]
  },
  {
   "cell_type": "code",
   "execution_count": 16,
   "metadata": {},
   "outputs": [],
   "source": [
    "def parent_chromosome(bin_weights,max_fit_index):  \n",
    "    cross_parent = bin_weights[max_fit_index]\n",
    "    return cross_parent\n",
    "#parent_chromosome = parent_chromosome(bin_weights, max_fit_index)\n",
    "#print(parent_chromosome)\n",
    "\n",
    "#parent_chromosome_func = parent_chromosome(bin_weights,max_fit_index)"
   ]
  },
  {
   "cell_type": "code",
   "execution_count": 17,
   "metadata": {},
   "outputs": [],
   "source": [
    "# Crossover parent with 2 N_pop values\n",
    "def crossover(cross_parent,bin_weights):\n",
    "    child_bin_node = [] # 1000 N_pop values that are generated after appending crossover child 1 and 2 \n",
    "    for i in range(0, 500):\n",
    "        var1 = ''\n",
    "        var2 = ''\n",
    "        cross_int = np.random.randint(2,499)\n",
    "        cross_over1 = np.hstack((cross_parent[cross_int:], bin_weights[i][:cross_int]))\n",
    "        cross_over2 = np.hstack((cross_parent[:cross_int], bin_weights[i][cross_int:]))\n",
    "        var1 = cross_over1[0] + cross_over1[1]\n",
    "        child_bin_node.append(var1)\n",
    "        var2 = cross_over2[1] + cross_over2[0]\n",
    "        child_bin_node.append(var2)\n",
    "    return child_bin_node"
   ]
  },
  {
   "cell_type": "code",
   "execution_count": 18,
   "metadata": {},
   "outputs": [],
   "source": [
    "# Mutation \n",
    "def mutation(child_bin_node):    \n",
    "    for i in range(0, 1000):\n",
    "        random_list = []\n",
    "        random_list = random.sample(range(0,500), 25)\n",
    "        child_bin_node_int = ''\n",
    "        child_bin_node_int = list(child_bin_node[i])\n",
    "        \n",
    "        for k in range(0, 25):\n",
    "            if child_bin_node[i][random_list[k]] == '0':\n",
    "                child_bin_node_int[random_list[k]] ='1'\n",
    "            else:\n",
    "                child_bin_node_int[random_list[k]] = '0'\n",
    "        child_bin_node[i] = ''.join(child_bin_node_int)\n",
    "    #print(random_list)\n",
    "    #print(child_bin_node[1])\n",
    "    return child_bin_node\n",
    "# Crossover of parent with each population \n",
    "cross_parent = parent_chromosome(bin_weights,max_fit_index)\n",
    "child_bin_node = crossover(cross_parent,bin_weights)\n",
    "\n",
    "# 5% Mutation \n",
    "child_bin_node= mutation(child_bin_node)"
   ]
  },
  {
   "cell_type": "code",
   "execution_count": 19,
   "metadata": {},
   "outputs": [],
   "source": [
    "def debinarize_weights(child_bin_node):\n",
    "    debinarize_child = []\n",
    "    for x in range(0, 1000):\n",
    "        deb_child_1 = []\n",
    "        deb_child_2 = []\n",
    "        l=0\n",
    "        for i in range(0, 50):\n",
    "            deb_child_1.append(child_bin_node[x][l:l+10])\n",
    "            l += 10\n",
    "        l = 0\n",
    "        for j in range(0, 5):\n",
    "            new_deb_val = deb_child_1[l:l+10]\n",
    "            l += 10\n",
    "            deb_child_2.append(new_deb_val)\n",
    "        debinarize_child.append(deb_child_2)    \n",
    "    \n",
    "    # Debinarization to integer\n",
    "    pop_weights = []\n",
    "    for i in range(0, 1000):\n",
    "        debin_2 = []\n",
    "        for j in range(0, 5):\n",
    "            debin_1 = []\n",
    "            for k in range(0, 10):\n",
    "                int_val = int(debinarize_child[i][j][k], 2)\n",
    "                debin_1.append(int_val)\n",
    "            debin_2.append(debin_1)\n",
    "        pop_weights.append(debin_2)\n",
    "        \n",
    "    # Dividing debinarized values by 1000\n",
    "    pop_weights = np.array(pop_weights)\n",
    "    pop_weights = pop_weights.astype(int)\n",
    "    pop_weights = pop_weights/1000\n",
    "    \n",
    "    # Denormalizing the debanirzed values\n",
    "    pop_weights = (pop_weights*2)-1\n",
    "    \n",
    "\n",
    "    return pop_weights\n",
    "\n",
    "pop_weights = debinarize_weights(child_bin_node)\n",
    "\n",
    "\n",
    "new_fitness_val = fitness_val_func(pop_weights,1000)\n",
    "fit_init_pop = max(new_fitness_val)"
   ]
  },
  {
   "cell_type": "code",
   "execution_count": 20,
   "metadata": {},
   "outputs": [],
   "source": [
    "def new_child(fitness_child_val,child_bin_node):\n",
    "    fitness_child_val=np.array(fitness_child_val)\n",
    "    median = np.median(fitness_child_val)\n",
    "    child_index = []\n",
    "    \n",
    "    for i in range(0, 1000):\n",
    "        if fitness_child_val[i] > median:\n",
    "            child_index.append(i)\n",
    "            if fitness_child_val[i] == max(fitness_child_val):\n",
    "                new_index = i\n",
    "    fit_child = []\n",
    "    for i in range(0, N_pop):\n",
    "        max_fit_node = []\n",
    "        max_fit_node = child_bin_node[child_index[i]]\n",
    "        if child_index[i] == new_index:\n",
    "            max_fit_index = i\n",
    "        \n",
    "        fit_child.append(max_fit_node)\n",
    "    fit_child=np.array(fit_child)\n",
    "    return fit_child   \n",
    "\n",
    "def new_max_fit(fitness_child_val,child_bin_node):\n",
    "    fitness_child_val=np.array(fitness_child_val)\n",
    "    median = np.median(fitness_child_val)\n",
    "    max_index = []\n",
    "    for i in range(0, 1000):\n",
    "        if fitness_child_val[i] > median:\n",
    "            max_index.append(i)\n",
    "            if fitness_child_val[i] == max(fitness_child_val):\n",
    "                new_index = i\n",
    "                \n",
    "    for i in range(0, N_pop):\n",
    "        if max_index[i] == new_index:\n",
    "            max_fit_index = i\n",
    "    \n",
    "    return max_fit_index   "
   ]
  },
  {
   "cell_type": "code",
   "execution_count": 21,
   "metadata": {},
   "outputs": [
    {
     "name": "stdout",
     "output_type": "stream",
     "text": [
      "-417.3767240748103\n",
      "-381.08549458032445\n",
      "-321.077565411406\n",
      "-286.21578275538485\n",
      "-273.3131734479223\n",
      "-228.3559764296375\n",
      "-205.83526112266574\n",
      "-201.57262765058124\n",
      "-190.1675324274611\n"
     ]
    }
   ],
   "source": [
    "final_iterations = []\n",
    "counter = 0\n",
    "old_fitness = max(fitness_val)\n",
    "while counter < 200:\n",
    "    child_crossover = crossover(cross_parent,bin_weights)\n",
    "    final_mutation = mutation(child_crossover)\n",
    "    final_debinarized = debinarize_weights(final_mutation)\n",
    "    new_fitness_val = fitness_val_func(final_debinarized,1000)\n",
    "    fit_child = new_child(new_fitness_val,final_mutation)\n",
    "    max_fit_index = new_max_fit(new_fitness_val,final_mutation)\n",
    "    if old_fitness < max(new_fitness_val):\n",
    "        print(max(new_fitness_val))\n",
    "        cross_parent = parent_chromosome(fit_child,max_fit_index)\n",
    "        old_fitness = max(new_fitness_val)\n",
    "        final_iterations.append(old_fitness)     \n",
    "    counter += 1"
   ]
  },
  {
   "cell_type": "code",
   "execution_count": 22,
   "metadata": {},
   "outputs": [
    {
     "data": {
      "image/png": "[encoded data removed]",
      "text/plain": [
       "<Figure size 432x288 with 1 Axes>"
      ]
     },
     "metadata": {
      "needs_background": "light"
     },
     "output_type": "display_data"
    }
   ],
   "source": [
    "# Scatter plot\n",
    "plt.scatter(final_iterations, range(len(final_iterations)))\n",
    "plt.show()"
   ]
  },
  {
   "cell_type": "code",
   "execution_count": 23,
   "metadata": {},
   "outputs": [
    {
     "name": "stdout",
     "output_type": "stream",
     "text": [
      "[[-1.    -0.952 -0.744 -0.864 -0.544 -0.954 -0.758 -0.604 -0.926 -0.984]\n",
      " [-0.758 -0.746  0.692  0.158 -0.886 -0.966 -0.062 -0.868 -0.952 -0.72 ]\n",
      " [-0.928 -0.04  -0.734 -0.758  0.982  0.978 -0.982 -0.196  0.29  -0.012]\n",
      " [-0.786 -0.976 -0.122  0.338 -0.678  0.32  -0.578 -0.916 -0.934 -0.836]\n",
      " [-0.858 -0.594 -0.79  -0.864 -0.22  -0.764 -0.898 -0.848 -0.614 -1.   ]]\n",
      "1.0866691373220165\n"
     ]
    }
   ],
   "source": [
    "# Calculating Error Rate\n",
    "def overall_error(final_debinarized):\n",
    "    new_fitness_val = fitness_val_func(final_debinarized,1000)\n",
    "    for i in range(0, 1000):\n",
    "        a = 0\n",
    "        if new_fitness_val[i] == max(new_fitness_val):\n",
    "            a = i\n",
    "            break\n",
    "    best_w = final_debinarized[a]\n",
    "    print(best_w)\n",
    "    dot_prod_test = np.dot(norm_test_df.loc[:,:5],best_w)\n",
    "    fit_val_num_test = 0\n",
    "    y_cap_test = []\n",
    "    for j in range(0, len(test_y)):\n",
    "        #dot_prod = np.dot(norm_data.loc[j, :5],pop_weights[i])\n",
    "        f_n_test = 0\n",
    "        for k in range(0, 10):\n",
    "            f_n_test = f_n_test + (1/(1 + (e**(-(dot_prod_test[j][k])))))\n",
    "        y_cap_test.append(f_n_test)\n",
    "    for x in range(0, len(test_y)):\n",
    "        fit_val_num_test = fit_val_num_test + ((y_cap_test[x] - norm_test_df.loc[x,4])) ** 2\n",
    "    error_val = (fit_val_num_test/189)\n",
    "    return error_val, y_cap_test\n",
    "error_rate, y_cap_test = overall_error(final_debinarized)\n",
    "print(error_rate)"
   ]
  },
  {
   "cell_type": "code",
   "execution_count": 24,
   "metadata": {},
   "outputs": [
    {
     "data": {
      "image/png": "[encoded data removed]",
      "text/plain": [
       "<Figure size 432x288 with 1 Axes>"
      ]
     },
     "metadata": {
      "needs_background": "light"
     },
     "output_type": "display_data"
    }
   ],
   "source": [
    "# Plotting 3D - Scatter Plot\n",
    "from mpl_toolkits.mplot3d import Axes3D\n",
    "\n",
    "fig = plt.figure()\n",
    "\n",
    "ax = Axes3D(fig)\n",
    "\n",
    "x = norm_test_y[:, 1]\n",
    "y = norm_test_y[:, 2]\n",
    "z = y_cap_test\n",
    "\n",
    "ax.scatter(x, y, z, marker='o')\n",
    "\n",
    "x = norm_test_y[:, 1]\n",
    "y = norm_test_y[:, 2]\n",
    "z = W[:63]\n",
    "\n",
    "ax.scatter(x, y, z, marker='o')\n",
    "\n",
    "ax.set_xlabel('X Label')\n",
    "ax.set_ylabel('Y Label')\n",
    "ax.set_zlabel('Z Label')\n",
    "\n",
    "plt.show()"
   ]
  },
  {
   "cell_type": "code",
   "execution_count": null,
   "metadata": {},
   "outputs": [],
   "source": []
  },
  {
   "cell_type": "code",
   "execution_count": null,
   "metadata": {},
   "outputs": [],
   "source": []
  }
 ],
 "metadata": {
  "kernelspec": {
   "display_name": "Python 3",
   "language": "python",
   "name": "python3"
  },
  "language_info": {
   "codemirror_mode": {
    "name": "ipython",
    "version": 3
   },
   "file_extension": ".py",
   "mimetype": "text/x-python",
   "name": "python",
   "nbconvert_exporter": "python",
   "pygments_lexer": "ipython3",
   "version": "3.6.7"
  }
 },
 "nbformat": 4,
 "nbformat_minor": 2
}
